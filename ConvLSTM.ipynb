{
 "metadata": {
  "language_info": {
   "codemirror_mode": {
    "name": "ipython",
    "version": 3
   },
   "file_extension": ".py",
   "mimetype": "text/x-python",
   "name": "python",
   "nbconvert_exporter": "python",
   "pygments_lexer": "ipython3",
   "version": "3.8.3-final"
  },
  "orig_nbformat": 2,
  "kernelspec": {
   "name": "python3",
   "display_name": "Python 3",
   "language": "python"
  }
 },
 "nbformat": 4,
 "nbformat_minor": 2,
 "cells": [
  {
   "cell_type": "code",
   "execution_count": null,
   "metadata": {},
   "outputs": [],
   "source": [
    "from tensorflow.keras.applications import InceptionResNetV2\n",
    "from tensorflow.keras.preprocessing.image import ImageDataGenerator\n",
    "from tensorflow.keras.preprocessing.sequence import pad_sequences\n",
    "from tensorflow.keras import layers, models, Model\n",
    "import numpy as np\n",
    "import tensorflow as tf\n",
    "import matplotlib.pyplot as plt\n",
    "import os\n",
    "import cv2\n",
    "\n",
    "os.environ['TF_FORCE_GPU_ALLOW_GROWTH'] = 'true'\n",
    "\n",
    "tile_size = 256\n",
    "tile_increment = tile_size // 1\n",
    "diseased_dir = '../data/RNN_images/diseased/'\n",
    "non_diseased_dir = '../data/RNN_images/non_diseased/'\n"
   ]
  },
  {
   "cell_type": "code",
   "execution_count": null,
   "metadata": {},
   "outputs": [],
   "source": [
    "\n",
    "def sliding_window(image, window_size, step):\n",
    "    for y in range(0, image.shape[0] - window_size, step):\n",
    "        for x in range(0, image.shape[1] - window_size, step):\n",
    "            yield (x, y, image[y:y + window_size, x:x + window_size])\n",
    "\n",
    "def containsWhite(image):\n",
    "    avg = np.mean(image)\n",
    "    return avg == 255"
   ]
  },
  {
   "cell_type": "code",
   "execution_count": null,
   "metadata": {},
   "outputs": [],
   "source": [
    "\n",
    "conv_base = InceptionResNetV2(weights='imagenet', include_top=False, input_shape=(tile_size, tile_size, 3), pooling='avg')\n",
    "\n",
    "diseased_features = []\n",
    "non_diseased_features = []\n",
    "diseased_list = os.listdir(diseased_dir)\n",
    "non_diseased_list = os.listdir(non_diseased_dir)\n",
    "for i in diseased_list[:]:\n",
    "    print(i)\n",
    "    image = cv2.imread(diseased_dir + i)\n",
    "    tiles = []\n",
    "    for (_, _, tile) in sliding_window(image, tile_size, tile_increment):\n",
    "        if not containsWhite(tile):\n",
    "            tiles.append(tile)\n",
    "    diseased_features.append(conv_base.predict(np.array(tiles) / 255.))\n",
    "diseased_features = np.array(diseased_features)\n",
    "for i in non_diseased_list[:]:\n",
    "    print(i)\n",
    "    image = cv2.imread(non_diseased_dir + i)\n",
    "    tiles = []\n",
    "    for (_, _, tile) in sliding_window(image, tile_size, tile_increment):\n",
    "        if not containsWhite(tile):\n",
    "            tiles.append(tile)\n",
    "    non_diseased_features.append(conv_base.predict(np.array(tiles) / 255.))\n",
    "non_diseased_features = np.array(non_diseased_features)\n",
    "\n",
    "#print(diseased_features[0].shape)\n",
    "    "
   ]
  },
  {
   "cell_type": "code",
   "execution_count": null,
   "metadata": {},
   "outputs": [],
   "source": [
    "x_train = []\n",
    "y_train = []\n",
    "for i in diseased_features:\n",
    "    x_train.append(i)\n",
    "    y_train.append(0)\n",
    "for i in non_diseased_features:\n",
    "    x_train.append(i)\n",
    "    y_train.append(1)\n",
    "\n",
    "x_train = np.array(x_train)\n",
    "x_train = pad_sequences(x_train, dtype='float32')\n",
    "y_train = np.array(y_train)\n",
    "\n",
    "print(\"x shape:\", x_train.shape)\n",
    "print(\"y shape:\", y_train.shape)"
   ]
  },
  {
   "cell_type": "code",
   "execution_count": null,
   "metadata": {},
   "outputs": [],
   "source": [
    "def make_model():\n",
    "    input_layer = layers.Input(shape=(None, conv_base.output.shape[-1]))\n",
    "    x = layers.LSTM(256, dropout=0.2, return_sequences=True)(input_layer)\n",
    "    #x = layers.LSTM(128, dropout=0.2, return_sequences=True)(x)\n",
    "    x = layers.LSTM(64, dropout=0.2)(x)\n",
    "    output_layer = layers.Dense(2, activation='softmax')(x)\n",
    "\n",
    "    model = models.Model(input_layer, output_layer)\n",
    "    model.compile(optimizer='adam', loss='sparse_categorical_crossentropy', metrics=['accuracy'])\n",
    "    return model\n"
   ]
  },
  {
   "cell_type": "code",
   "execution_count": null,
   "metadata": {},
   "outputs": [],
   "source": [
    "model = make_model()\n",
    "model.fit(x_train, y_train, epochs=50, batch_size=8, shuffle=True)"
   ]
  }
 ]
}